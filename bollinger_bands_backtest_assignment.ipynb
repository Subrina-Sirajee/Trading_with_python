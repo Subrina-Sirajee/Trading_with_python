{
 "cells": [
  {
   "cell_type": "markdown",
   "id": "3878b0ba-bf85-40c7-98cf-eeed3fea7879",
   "metadata": {
    "tags": []
   },
   "source": [
    "# Imports"
   ]
  },
  {
   "cell_type": "code",
   "execution_count": 1,
   "id": "5117f70c-29f6-46a9-902b-46aa971e1252",
   "metadata": {
    "tags": []
   },
   "outputs": [],
   "source": [
    "import numpy as np\n",
    "import pandas as pd\n",
    "import builtins\n",
    "import pyfolio as pf\n",
    "# from logbook import (NestedSetup, NullHandler, Logger, StreamHandler, StderrHandler, \n",
    "#                      INFO, WARNING, DEBUG, ERROR)\n",
    "from zipline.api import (order, \n",
    "                         record, \n",
    "                         symbol,\n",
    "                         get_datetime,\n",
    "                         order_target_percent,\n",
    "                         order_target_value,\n",
    "                         set_benchmark,\n",
    "                         get_open_orders)\n",
    "from zipline import run_algorithm\n",
    "from zipline.data import bundles\n",
    "from zipline.utils.calendar_utils import get_calendar\n",
    "from zipline.api import order_target, record, symbol\n",
    "# import pyfolio as pf\n",
    "# from pyfolio.utils import extract_rets_pos_txn_from_zipline\n",
    "import matplotlib.pyplot as plt\n",
    "import seaborn as sns\n",
    "%matplotlib inline"
   ]
  },
  {
   "cell_type": "markdown",
   "id": "689fa359-daa1-470a-84e6-580b2d3adf7b",
   "metadata": {},
   "source": [
    "# Performance Functions"
   ]
  },
  {
   "cell_type": "code",
   "execution_count": 2,
   "id": "7facfc06-4a16-4f02-be18-6161a184c8ea",
   "metadata": {
    "tags": []
   },
   "outputs": [],
   "source": [
    "def rolling_sharpe(ret):\n",
    "    return np.multiply(np.divide(ret.mean(), ret.std()), np.sqrt(252))\n",
    "\n",
    "def get_rolling_stats(result, r_window):\n",
    "    result[\"rolling_sharpe\"] = result[\"portfolio_value\"].pct_change().rolling(r_window).apply(rolling_sharpe)\n",
    "    result[\"rolling_vol\"] = result[\"portfolio_value\"].pct_change().rolling(r_window).std()\n",
    "    stats = [result.rolling_sharpe.mean(), result.portfolio_value.mean(), result.rolling_vol.mean()]\n",
    "    return result, stats\n",
    "\n",
    "def show_rolling_stats(result, r_window):\n",
    "    result, stats = get_rolling_stats(result, r_window)\n",
    "    fig, ax = plt.subplots(1, 3, figsize=(18,4))\n",
    "    result['rolling_sharpe'].plot(ax = ax[0], title='Rolling sharpe')\n",
    "    result['rolling_vol'].plot(ax = ax[1], title='Rolling vol')\n",
    "    result['portfolio_value'].plot(ax = ax[2], title='Portfolio value')\n",
    "    plt.show()\n",
    "    return result"
   ]
  },
  {
   "cell_type": "markdown",
   "id": "1704c500-523b-4ea0-9427-23568c439532",
   "metadata": {},
   "source": [
    "# Check Bundels"
   ]
  },
  {
   "cell_type": "code",
   "execution_count": 3,
   "id": "8fcd9077-0a44-4084-a00c-a24afbb8ca27",
   "metadata": {
    "tags": []
   },
   "outputs": [
    {
     "name": "stdout",
     "output_type": "stream",
     "text": [
      "csvdir <no ingestions>\n",
      "multi_asset_snp100 2023-12-17 22:09:58.629570\n",
      "multi_asset_snp100 2023-12-17 22:08:14.030382\n",
      "multi_asset_snp100 2023-12-17 22:07:15.246137\n",
      "multi_asset_snp100 2023-12-17 22:01:09.626921\n",
      "multi_asset_snp100 2023-12-17 21:56:31.607502\n",
      "multi_asset_snp100 2023-12-17 21:55:36.681433\n",
      "multi_asset_snp100 2023-12-17 09:13:21.717476\n",
      "multi_asset_snp100 2023-12-17 09:08:47.876986\n",
      "multi_asset_snp100 2023-12-17 09:06:49.789240\n",
      "multi_asset_snp100 2023-12-17 08:55:08.564988\n",
      "multi_asset_snp100 2023-12-17 08:52:55.696107\n",
      "multi_asset_snp100 2023-12-17 08:52:18.051362\n",
      "multi_asset_snp100 2023-12-17 08:48:44.729190\n",
      "multi_asset_snp100 2023-12-17 08:47:54.329628\n",
      "multi_asset_snp100 2023-12-16 17:31:45.414344\n",
      "multi_asset_snp100 2023-12-16 15:15:33.865051\n",
      "multi_asset_snp100 2023-12-16 09:20:22.560097\n",
      "multi_asset_snp100 2023-12-15 22:01:14.037391\n",
      "multi_asset_snp100 2023-12-15 21:54:57.685235\n",
      "multi_asset_snp100 2023-12-15 21:32:50.035515\n",
      "multi_asset_snp100 2023-12-15 21:28:12.594941\n",
      "multi_asset_snp100 2023-12-15 21:24:39.564635\n",
      "multi_asset_snp100 2023-12-15 07:44:01.699372\n",
      "multi_asset_snp100 2023-12-15 07:41:38.488699\n",
      "multi_asset_snp100 2023-12-15 07:32:05.248661\n",
      "multi_asset_snp100 2023-12-15 07:29:10.693330\n",
      "multi_asset_snp100 2023-12-15 07:23:30.053949\n",
      "quandl 2023-12-12 14:51:06.970977\n",
      "quandl 2023-12-11 18:58:51.384085\n",
      "quandl 2023-12-11 18:58:18.790981\n",
      "quandl 2023-12-11 17:27:05.201175\n",
      "quandl 2023-12-11 17:16:04.140642\n",
      "quandl 2023-12-11 09:19:57.807125\n",
      "quandl 2023-12-11 09:18:50.209032\n",
      "quandl 2023-12-11 09:14:10.865540\n",
      "quandl 2023-12-11 06:27:30.829838\n",
      "quandl 2023-12-10 12:31:04.001536\n",
      "quandl 2023-12-10 12:22:46.640028\n",
      "quantopian-quandl <no ingestions>\n"
     ]
    }
   ],
   "source": [
    "!zipline bundles"
   ]
  },
  {
   "cell_type": "code",
   "execution_count": 4,
   "id": "8972230a-1f41-4de0-a27b-2a0af2e8b50f",
   "metadata": {},
   "outputs": [
    {
     "name": "stdout",
     "output_type": "stream",
     "text": [
      "[2023-12-18T04:11:14+0600-INFO][zipline.data.bundles.core]\n",
      " Ingesting multi_asset_snp100\n",
      "\u001b[?25lLoading custom pricing data:   [####################################]  100%\u001b[?25h\n",
      "\u001b[?25lMerging daily equity files:  [####################################]     \u001b[?25h\n",
      "[2023-12-18T04:11:15+0600-INFO][root]\n",
      " creating /home/subrina/.zipline/data/multi_asset_snp100/2023-12-17T22;11;13.807979/daily_equities.bcolz\n",
      "[2023-12-18T04:11:15+0600-INFO][root]\n",
      " copying /tmp/tmptlcal94t/multi_asset_snp100/2023-12-17T22;11;13.807979/daily_equities.bcolz/__attrs__ -> /home/subrina/.zipline/data/multi_asset_snp100/2023-12-17T22;11;13.807979/daily_equities.bcolz\n",
      "[2023-12-18T04:11:15+0600-INFO][root]\n",
      " creating /home/subrina/.zipline/data/multi_asset_snp100/2023-12-17T22;11;13.807979/daily_equities.bcolz/close\n",
      "[2023-12-18T04:11:15+0600-INFO][root]\n",
      " copying /tmp/tmptlcal94t/multi_asset_snp100/2023-12-17T22;11;13.807979/daily_equities.bcolz/close/__attrs__ -> /home/subrina/.zipline/data/multi_asset_snp100/2023-12-17T22;11;13.807979/daily_equities.bcolz/close\n",
      "[2023-12-18T04:11:15+0600-INFO][root]\n",
      " creating /home/subrina/.zipline/data/multi_asset_snp100/2023-12-17T22;11;13.807979/daily_equities.bcolz/close/meta\n",
      "[2023-12-18T04:11:15+0600-INFO][root]\n",
      " copying /tmp/tmptlcal94t/multi_asset_snp100/2023-12-17T22;11;13.807979/daily_equities.bcolz/close/meta/storage -> /home/subrina/.zipline/data/multi_asset_snp100/2023-12-17T22;11;13.807979/daily_equities.bcolz/close/meta\n",
      "[2023-12-18T04:11:15+0600-INFO][root]\n",
      " copying /tmp/tmptlcal94t/multi_asset_snp100/2023-12-17T22;11;13.807979/daily_equities.bcolz/close/meta/sizes -> /home/subrina/.zipline/data/multi_asset_snp100/2023-12-17T22;11;13.807979/daily_equities.bcolz/close/meta\n",
      "[2023-12-18T04:11:15+0600-INFO][root]\n",
      " creating /home/subrina/.zipline/data/multi_asset_snp100/2023-12-17T22;11;13.807979/daily_equities.bcolz/close/data\n",
      "[2023-12-18T04:11:15+0600-INFO][root]\n",
      " copying /tmp/tmptlcal94t/multi_asset_snp100/2023-12-17T22;11;13.807979/daily_equities.bcolz/close/data/__0.blp -> /home/subrina/.zipline/data/multi_asset_snp100/2023-12-17T22;11;13.807979/daily_equities.bcolz/close/data\n",
      "[2023-12-18T04:11:15+0600-INFO][root]\n",
      " copying /tmp/tmptlcal94t/multi_asset_snp100/2023-12-17T22;11;13.807979/daily_equities.bcolz/close/data/__4.blp -> /home/subrina/.zipline/data/multi_asset_snp100/2023-12-17T22;11;13.807979/daily_equities.bcolz/close/data\n",
      "[2023-12-18T04:11:15+0600-INFO][root]\n",
      " copying /tmp/tmptlcal94t/multi_asset_snp100/2023-12-17T22;11;13.807979/daily_equities.bcolz/close/data/__3.blp -> /home/subrina/.zipline/data/multi_asset_snp100/2023-12-17T22;11;13.807979/daily_equities.bcolz/close/data\n",
      "[2023-12-18T04:11:15+0600-INFO][root]\n",
      " copying /tmp/tmptlcal94t/multi_asset_snp100/2023-12-17T22;11;13.807979/daily_equities.bcolz/close/data/__2.blp -> /home/subrina/.zipline/data/multi_asset_snp100/2023-12-17T22;11;13.807979/daily_equities.bcolz/close/data\n",
      "[2023-12-18T04:11:15+0600-INFO][root]\n",
      " copying /tmp/tmptlcal94t/multi_asset_snp100/2023-12-17T22;11;13.807979/daily_equities.bcolz/close/data/__1.blp -> /home/subrina/.zipline/data/multi_asset_snp100/2023-12-17T22;11;13.807979/daily_equities.bcolz/close/data\n",
      "[2023-12-18T04:11:15+0600-INFO][root]\n",
      " copying /tmp/tmptlcal94t/multi_asset_snp100/2023-12-17T22;11;13.807979/daily_equities.bcolz/__rootdirs__ -> /home/subrina/.zipline/data/multi_asset_snp100/2023-12-17T22;11;13.807979/daily_equities.bcolz\n",
      "[2023-12-18T04:11:15+0600-INFO][root]\n",
      " creating /home/subrina/.zipline/data/multi_asset_snp100/2023-12-17T22;11;13.807979/daily_equities.bcolz/id\n",
      "[2023-12-18T04:11:15+0600-INFO][root]\n",
      " copying /tmp/tmptlcal94t/multi_asset_snp100/2023-12-17T22;11;13.807979/daily_equities.bcolz/id/__attrs__ -> /home/subrina/.zipline/data/multi_asset_snp100/2023-12-17T22;11;13.807979/daily_equities.bcolz/id\n",
      "[2023-12-18T04:11:15+0600-INFO][root]\n",
      " creating /home/subrina/.zipline/data/multi_asset_snp100/2023-12-17T22;11;13.807979/daily_equities.bcolz/id/meta\n",
      "[2023-12-18T04:11:15+0600-INFO][root]\n",
      " copying /tmp/tmptlcal94t/multi_asset_snp100/2023-12-17T22;11;13.807979/daily_equities.bcolz/id/meta/storage -> /home/subrina/.zipline/data/multi_asset_snp100/2023-12-17T22;11;13.807979/daily_equities.bcolz/id/meta\n",
      "[2023-12-18T04:11:15+0600-INFO][root]\n",
      " copying /tmp/tmptlcal94t/multi_asset_snp100/2023-12-17T22;11;13.807979/daily_equities.bcolz/id/meta/sizes -> /home/subrina/.zipline/data/multi_asset_snp100/2023-12-17T22;11;13.807979/daily_equities.bcolz/id/meta\n",
      "[2023-12-18T04:11:15+0600-INFO][root]\n",
      " creating /home/subrina/.zipline/data/multi_asset_snp100/2023-12-17T22;11;13.807979/daily_equities.bcolz/id/data\n",
      "[2023-12-18T04:11:15+0600-INFO][root]\n",
      " copying /tmp/tmptlcal94t/multi_asset_snp100/2023-12-17T22;11;13.807979/daily_equities.bcolz/id/data/__0.blp -> /home/subrina/.zipline/data/multi_asset_snp100/2023-12-17T22;11;13.807979/daily_equities.bcolz/id/data\n",
      "[2023-12-18T04:11:15+0600-INFO][root]\n",
      " copying /tmp/tmptlcal94t/multi_asset_snp100/2023-12-17T22;11;13.807979/daily_equities.bcolz/id/data/__4.blp -> /home/subrina/.zipline/data/multi_asset_snp100/2023-12-17T22;11;13.807979/daily_equities.bcolz/id/data\n",
      "[2023-12-18T04:11:15+0600-INFO][root]\n",
      " copying /tmp/tmptlcal94t/multi_asset_snp100/2023-12-17T22;11;13.807979/daily_equities.bcolz/id/data/__3.blp -> /home/subrina/.zipline/data/multi_asset_snp100/2023-12-17T22;11;13.807979/daily_equities.bcolz/id/data\n",
      "[2023-12-18T04:11:15+0600-INFO][root]\n",
      " copying /tmp/tmptlcal94t/multi_asset_snp100/2023-12-17T22;11;13.807979/daily_equities.bcolz/id/data/__2.blp -> /home/subrina/.zipline/data/multi_asset_snp100/2023-12-17T22;11;13.807979/daily_equities.bcolz/id/data\n",
      "[2023-12-18T04:11:15+0600-INFO][root]\n",
      " copying /tmp/tmptlcal94t/multi_asset_snp100/2023-12-17T22;11;13.807979/daily_equities.bcolz/id/data/__1.blp -> /home/subrina/.zipline/data/multi_asset_snp100/2023-12-17T22;11;13.807979/daily_equities.bcolz/id/data\n",
      "[2023-12-18T04:11:15+0600-INFO][root]\n",
      " creating /home/subrina/.zipline/data/multi_asset_snp100/2023-12-17T22;11;13.807979/daily_equities.bcolz/open\n",
      "[2023-12-18T04:11:15+0600-INFO][root]\n",
      " copying /tmp/tmptlcal94t/multi_asset_snp100/2023-12-17T22;11;13.807979/daily_equities.bcolz/open/__attrs__ -> /home/subrina/.zipline/data/multi_asset_snp100/2023-12-17T22;11;13.807979/daily_equities.bcolz/open\n",
      "[2023-12-18T04:11:15+0600-INFO][root]\n",
      " creating /home/subrina/.zipline/data/multi_asset_snp100/2023-12-17T22;11;13.807979/daily_equities.bcolz/open/meta\n",
      "[2023-12-18T04:11:15+0600-INFO][root]\n",
      " copying /tmp/tmptlcal94t/multi_asset_snp100/2023-12-17T22;11;13.807979/daily_equities.bcolz/open/meta/storage -> /home/subrina/.zipline/data/multi_asset_snp100/2023-12-17T22;11;13.807979/daily_equities.bcolz/open/meta\n",
      "[2023-12-18T04:11:15+0600-INFO][root]\n",
      " copying /tmp/tmptlcal94t/multi_asset_snp100/2023-12-17T22;11;13.807979/daily_equities.bcolz/open/meta/sizes -> /home/subrina/.zipline/data/multi_asset_snp100/2023-12-17T22;11;13.807979/daily_equities.bcolz/open/meta\n",
      "[2023-12-18T04:11:15+0600-INFO][root]\n",
      " creating /home/subrina/.zipline/data/multi_asset_snp100/2023-12-17T22;11;13.807979/daily_equities.bcolz/open/data\n",
      "[2023-12-18T04:11:15+0600-INFO][root]\n",
      " copying /tmp/tmptlcal94t/multi_asset_snp100/2023-12-17T22;11;13.807979/daily_equities.bcolz/open/data/__0.blp -> /home/subrina/.zipline/data/multi_asset_snp100/2023-12-17T22;11;13.807979/daily_equities.bcolz/open/data\n",
      "[2023-12-18T04:11:15+0600-INFO][root]\n",
      " copying /tmp/tmptlcal94t/multi_asset_snp100/2023-12-17T22;11;13.807979/daily_equities.bcolz/open/data/__4.blp -> /home/subrina/.zipline/data/multi_asset_snp100/2023-12-17T22;11;13.807979/daily_equities.bcolz/open/data\n",
      "[2023-12-18T04:11:15+0600-INFO][root]\n",
      " copying /tmp/tmptlcal94t/multi_asset_snp100/2023-12-17T22;11;13.807979/daily_equities.bcolz/open/data/__3.blp -> /home/subrina/.zipline/data/multi_asset_snp100/2023-12-17T22;11;13.807979/daily_equities.bcolz/open/data\n",
      "[2023-12-18T04:11:15+0600-INFO][root]\n",
      " copying /tmp/tmptlcal94t/multi_asset_snp100/2023-12-17T22;11;13.807979/daily_equities.bcolz/open/data/__2.blp -> /home/subrina/.zipline/data/multi_asset_snp100/2023-12-17T22;11;13.807979/daily_equities.bcolz/open/data\n",
      "[2023-12-18T04:11:15+0600-INFO][root]\n",
      " copying /tmp/tmptlcal94t/multi_asset_snp100/2023-12-17T22;11;13.807979/daily_equities.bcolz/open/data/__1.blp -> /home/subrina/.zipline/data/multi_asset_snp100/2023-12-17T22;11;13.807979/daily_equities.bcolz/open/data\n",
      "[2023-12-18T04:11:15+0600-INFO][root]\n",
      " creating /home/subrina/.zipline/data/multi_asset_snp100/2023-12-17T22;11;13.807979/daily_equities.bcolz/volume\n",
      "[2023-12-18T04:11:15+0600-INFO][root]\n",
      " copying /tmp/tmptlcal94t/multi_asset_snp100/2023-12-17T22;11;13.807979/daily_equities.bcolz/volume/__attrs__ -> /home/subrina/.zipline/data/multi_asset_snp100/2023-12-17T22;11;13.807979/daily_equities.bcolz/volume\n",
      "[2023-12-18T04:11:15+0600-INFO][root]\n",
      " creating /home/subrina/.zipline/data/multi_asset_snp100/2023-12-17T22;11;13.807979/daily_equities.bcolz/volume/meta\n",
      "[2023-12-18T04:11:15+0600-INFO][root]\n",
      " copying /tmp/tmptlcal94t/multi_asset_snp100/2023-12-17T22;11;13.807979/daily_equities.bcolz/volume/meta/storage -> /home/subrina/.zipline/data/multi_asset_snp100/2023-12-17T22;11;13.807979/daily_equities.bcolz/volume/meta\n",
      "[2023-12-18T04:11:15+0600-INFO][root]\n",
      " copying /tmp/tmptlcal94t/multi_asset_snp100/2023-12-17T22;11;13.807979/daily_equities.bcolz/volume/meta/sizes -> /home/subrina/.zipline/data/multi_asset_snp100/2023-12-17T22;11;13.807979/daily_equities.bcolz/volume/meta\n",
      "[2023-12-18T04:11:15+0600-INFO][root]\n",
      " creating /home/subrina/.zipline/data/multi_asset_snp100/2023-12-17T22;11;13.807979/daily_equities.bcolz/volume/data\n",
      "[2023-12-18T04:11:15+0600-INFO][root]\n",
      " copying /tmp/tmptlcal94t/multi_asset_snp100/2023-12-17T22;11;13.807979/daily_equities.bcolz/volume/data/__0.blp -> /home/subrina/.zipline/data/multi_asset_snp100/2023-12-17T22;11;13.807979/daily_equities.bcolz/volume/data\n",
      "[2023-12-18T04:11:15+0600-INFO][root]\n",
      " copying /tmp/tmptlcal94t/multi_asset_snp100/2023-12-17T22;11;13.807979/daily_equities.bcolz/volume/data/__4.blp -> /home/subrina/.zipline/data/multi_asset_snp100/2023-12-17T22;11;13.807979/daily_equities.bcolz/volume/data\n",
      "[2023-12-18T04:11:15+0600-INFO][root]\n",
      " copying /tmp/tmptlcal94t/multi_asset_snp100/2023-12-17T22;11;13.807979/daily_equities.bcolz/volume/data/__3.blp -> /home/subrina/.zipline/data/multi_asset_snp100/2023-12-17T22;11;13.807979/daily_equities.bcolz/volume/data\n",
      "[2023-12-18T04:11:15+0600-INFO][root]\n",
      " copying /tmp/tmptlcal94t/multi_asset_snp100/2023-12-17T22;11;13.807979/daily_equities.bcolz/volume/data/__2.blp -> /home/subrina/.zipline/data/multi_asset_snp100/2023-12-17T22;11;13.807979/daily_equities.bcolz/volume/data\n",
      "[2023-12-18T04:11:15+0600-INFO][root]\n",
      " copying /tmp/tmptlcal94t/multi_asset_snp100/2023-12-17T22;11;13.807979/daily_equities.bcolz/volume/data/__1.blp -> /home/subrina/.zipline/data/multi_asset_snp100/2023-12-17T22;11;13.807979/daily_equities.bcolz/volume/data\n",
      "[2023-12-18T04:11:15+0600-INFO][root]\n",
      " creating /home/subrina/.zipline/data/multi_asset_snp100/2023-12-17T22;11;13.807979/daily_equities.bcolz/day\n",
      "[2023-12-18T04:11:15+0600-INFO][root]\n",
      " copying /tmp/tmptlcal94t/multi_asset_snp100/2023-12-17T22;11;13.807979/daily_equities.bcolz/day/__attrs__ -> /home/subrina/.zipline/data/multi_asset_snp100/2023-12-17T22;11;13.807979/daily_equities.bcolz/day\n",
      "[2023-12-18T04:11:15+0600-INFO][root]\n",
      " creating /home/subrina/.zipline/data/multi_asset_snp100/2023-12-17T22;11;13.807979/daily_equities.bcolz/day/meta\n",
      "[2023-12-18T04:11:15+0600-INFO][root]\n",
      " copying /tmp/tmptlcal94t/multi_asset_snp100/2023-12-17T22;11;13.807979/daily_equities.bcolz/day/meta/storage -> /home/subrina/.zipline/data/multi_asset_snp100/2023-12-17T22;11;13.807979/daily_equities.bcolz/day/meta\n",
      "[2023-12-18T04:11:15+0600-INFO][root]\n",
      " copying /tmp/tmptlcal94t/multi_asset_snp100/2023-12-17T22;11;13.807979/daily_equities.bcolz/day/meta/sizes -> /home/subrina/.zipline/data/multi_asset_snp100/2023-12-17T22;11;13.807979/daily_equities.bcolz/day/meta\n",
      "[2023-12-18T04:11:15+0600-INFO][root]\n",
      " creating /home/subrina/.zipline/data/multi_asset_snp100/2023-12-17T22;11;13.807979/daily_equities.bcolz/day/data\n",
      "[2023-12-18T04:11:15+0600-INFO][root]\n",
      " copying /tmp/tmptlcal94t/multi_asset_snp100/2023-12-17T22;11;13.807979/daily_equities.bcolz/day/data/__0.blp -> /home/subrina/.zipline/data/multi_asset_snp100/2023-12-17T22;11;13.807979/daily_equities.bcolz/day/data\n",
      "[2023-12-18T04:11:15+0600-INFO][root]\n",
      " copying /tmp/tmptlcal94t/multi_asset_snp100/2023-12-17T22;11;13.807979/daily_equities.bcolz/day/data/__4.blp -> /home/subrina/.zipline/data/multi_asset_snp100/2023-12-17T22;11;13.807979/daily_equities.bcolz/day/data\n",
      "[2023-12-18T04:11:15+0600-INFO][root]\n",
      " copying /tmp/tmptlcal94t/multi_asset_snp100/2023-12-17T22;11;13.807979/daily_equities.bcolz/day/data/__3.blp -> /home/subrina/.zipline/data/multi_asset_snp100/2023-12-17T22;11;13.807979/daily_equities.bcolz/day/data\n",
      "[2023-12-18T04:11:15+0600-INFO][root]\n",
      " copying /tmp/tmptlcal94t/multi_asset_snp100/2023-12-17T22;11;13.807979/daily_equities.bcolz/day/data/__2.blp -> /home/subrina/.zipline/data/multi_asset_snp100/2023-12-17T22;11;13.807979/daily_equities.bcolz/day/data\n",
      "[2023-12-18T04:11:15+0600-INFO][root]\n",
      " copying /tmp/tmptlcal94t/multi_asset_snp100/2023-12-17T22;11;13.807979/daily_equities.bcolz/day/data/__1.blp -> /home/subrina/.zipline/data/multi_asset_snp100/2023-12-17T22;11;13.807979/daily_equities.bcolz/day/data\n",
      "[2023-12-18T04:11:15+0600-INFO][root]\n",
      " creating /home/subrina/.zipline/data/multi_asset_snp100/2023-12-17T22;11;13.807979/daily_equities.bcolz/low\n",
      "[2023-12-18T04:11:15+0600-INFO][root]\n",
      " copying /tmp/tmptlcal94t/multi_asset_snp100/2023-12-17T22;11;13.807979/daily_equities.bcolz/low/__attrs__ -> /home/subrina/.zipline/data/multi_asset_snp100/2023-12-17T22;11;13.807979/daily_equities.bcolz/low\n",
      "[2023-12-18T04:11:15+0600-INFO][root]\n",
      " creating /home/subrina/.zipline/data/multi_asset_snp100/2023-12-17T22;11;13.807979/daily_equities.bcolz/low/meta\n",
      "[2023-12-18T04:11:15+0600-INFO][root]\n",
      " copying /tmp/tmptlcal94t/multi_asset_snp100/2023-12-17T22;11;13.807979/daily_equities.bcolz/low/meta/storage -> /home/subrina/.zipline/data/multi_asset_snp100/2023-12-17T22;11;13.807979/daily_equities.bcolz/low/meta\n",
      "[2023-12-18T04:11:15+0600-INFO][root]\n",
      " copying /tmp/tmptlcal94t/multi_asset_snp100/2023-12-17T22;11;13.807979/daily_equities.bcolz/low/meta/sizes -> /home/subrina/.zipline/data/multi_asset_snp100/2023-12-17T22;11;13.807979/daily_equities.bcolz/low/meta\n",
      "[2023-12-18T04:11:15+0600-INFO][root]\n",
      " creating /home/subrina/.zipline/data/multi_asset_snp100/2023-12-17T22;11;13.807979/daily_equities.bcolz/low/data\n",
      "[2023-12-18T04:11:15+0600-INFO][root]\n",
      " copying /tmp/tmptlcal94t/multi_asset_snp100/2023-12-17T22;11;13.807979/daily_equities.bcolz/low/data/__0.blp -> /home/subrina/.zipline/data/multi_asset_snp100/2023-12-17T22;11;13.807979/daily_equities.bcolz/low/data\n",
      "[2023-12-18T04:11:15+0600-INFO][root]\n",
      " copying /tmp/tmptlcal94t/multi_asset_snp100/2023-12-17T22;11;13.807979/daily_equities.bcolz/low/data/__4.blp -> /home/subrina/.zipline/data/multi_asset_snp100/2023-12-17T22;11;13.807979/daily_equities.bcolz/low/data\n",
      "[2023-12-18T04:11:15+0600-INFO][root]\n",
      " copying /tmp/tmptlcal94t/multi_asset_snp100/2023-12-17T22;11;13.807979/daily_equities.bcolz/low/data/__3.blp -> /home/subrina/.zipline/data/multi_asset_snp100/2023-12-17T22;11;13.807979/daily_equities.bcolz/low/data\n",
      "[2023-12-18T04:11:15+0600-INFO][root]\n",
      " copying /tmp/tmptlcal94t/multi_asset_snp100/2023-12-17T22;11;13.807979/daily_equities.bcolz/low/data/__2.blp -> /home/subrina/.zipline/data/multi_asset_snp100/2023-12-17T22;11;13.807979/daily_equities.bcolz/low/data\n",
      "[2023-12-18T04:11:15+0600-INFO][root]\n",
      " copying /tmp/tmptlcal94t/multi_asset_snp100/2023-12-17T22;11;13.807979/daily_equities.bcolz/low/data/__1.blp -> /home/subrina/.zipline/data/multi_asset_snp100/2023-12-17T22;11;13.807979/daily_equities.bcolz/low/data\n",
      "[2023-12-18T04:11:15+0600-INFO][root]\n",
      " creating /home/subrina/.zipline/data/multi_asset_snp100/2023-12-17T22;11;13.807979/daily_equities.bcolz/high\n",
      "[2023-12-18T04:11:15+0600-INFO][root]\n",
      " copying /tmp/tmptlcal94t/multi_asset_snp100/2023-12-17T22;11;13.807979/daily_equities.bcolz/high/__attrs__ -> /home/subrina/.zipline/data/multi_asset_snp100/2023-12-17T22;11;13.807979/daily_equities.bcolz/high\n",
      "[2023-12-18T04:11:15+0600-INFO][root]\n",
      " creating /home/subrina/.zipline/data/multi_asset_snp100/2023-12-17T22;11;13.807979/daily_equities.bcolz/high/meta\n",
      "[2023-12-18T04:11:15+0600-INFO][root]\n",
      " copying /tmp/tmptlcal94t/multi_asset_snp100/2023-12-17T22;11;13.807979/daily_equities.bcolz/high/meta/storage -> /home/subrina/.zipline/data/multi_asset_snp100/2023-12-17T22;11;13.807979/daily_equities.bcolz/high/meta\n",
      "[2023-12-18T04:11:15+0600-INFO][root]\n",
      " copying /tmp/tmptlcal94t/multi_asset_snp100/2023-12-17T22;11;13.807979/daily_equities.bcolz/high/meta/sizes -> /home/subrina/.zipline/data/multi_asset_snp100/2023-12-17T22;11;13.807979/daily_equities.bcolz/high/meta\n",
      "[2023-12-18T04:11:15+0600-INFO][root]\n",
      " creating /home/subrina/.zipline/data/multi_asset_snp100/2023-12-17T22;11;13.807979/daily_equities.bcolz/high/data\n",
      "[2023-12-18T04:11:15+0600-INFO][root]\n",
      " copying /tmp/tmptlcal94t/multi_asset_snp100/2023-12-17T22;11;13.807979/daily_equities.bcolz/high/data/__0.blp -> /home/subrina/.zipline/data/multi_asset_snp100/2023-12-17T22;11;13.807979/daily_equities.bcolz/high/data\n",
      "[2023-12-18T04:11:15+0600-INFO][root]\n",
      " copying /tmp/tmptlcal94t/multi_asset_snp100/2023-12-17T22;11;13.807979/daily_equities.bcolz/high/data/__4.blp -> /home/subrina/.zipline/data/multi_asset_snp100/2023-12-17T22;11;13.807979/daily_equities.bcolz/high/data\n",
      "[2023-12-18T04:11:15+0600-INFO][root]\n",
      " copying /tmp/tmptlcal94t/multi_asset_snp100/2023-12-17T22;11;13.807979/daily_equities.bcolz/high/data/__3.blp -> /home/subrina/.zipline/data/multi_asset_snp100/2023-12-17T22;11;13.807979/daily_equities.bcolz/high/data\n",
      "[2023-12-18T04:11:15+0600-INFO][root]\n",
      " copying /tmp/tmptlcal94t/multi_asset_snp100/2023-12-17T22;11;13.807979/daily_equities.bcolz/high/data/__2.blp -> /home/subrina/.zipline/data/multi_asset_snp100/2023-12-17T22;11;13.807979/daily_equities.bcolz/high/data\n",
      "[2023-12-18T04:11:15+0600-INFO][root]\n",
      " copying /tmp/tmptlcal94t/multi_asset_snp100/2023-12-17T22;11;13.807979/daily_equities.bcolz/high/data/__1.blp -> /home/subrina/.zipline/data/multi_asset_snp100/2023-12-17T22;11;13.807979/daily_equities.bcolz/high/data\n",
      "[2023-12-18T04:11:15+0600-INFO][root]\n",
      " copying /tmp/tmptlcal94t/multi_asset_snp100/2023-12-17T22;11;13.807979/assets-7.sqlite -> /home/subrina/.zipline/data/multi_asset_snp100/2023-12-17T22;11;13.807979\n",
      "[2023-12-18T04:11:15+0600-INFO][root]\n",
      " copying /tmp/tmptlcal94t/multi_asset_snp100/2023-12-17T22;11;13.807979/adjustments.sqlite -> /home/subrina/.zipline/data/multi_asset_snp100/2023-12-17T22;11;13.807979\n",
      "[2023-12-18T04:11:15+0600-INFO][root]\n",
      " creating /home/subrina/.zipline/data/multi_asset_snp100/2023-12-17T22;11;13.807979/minute_equities.bcolz\n",
      "[2023-12-18T04:11:15+0600-INFO][root]\n",
      " copying /tmp/tmptlcal94t/multi_asset_snp100/2023-12-17T22;11;13.807979/minute_equities.bcolz/metadata.json -> /home/subrina/.zipline/data/multi_asset_snp100/2023-12-17T22;11;13.807979/minute_equities.bcolz\n"
     ]
    }
   ],
   "source": [
    "!zipline ingest -b multi_asset_snp100"
   ]
  },
  {
   "cell_type": "code",
   "execution_count": 5,
   "id": "e683cf3b-047e-4cf9-9888-c252760044f4",
   "metadata": {
    "tags": []
   },
   "outputs": [
    {
     "name": "stdout",
     "output_type": "stream",
     "text": [
      "csvdir <no ingestions>\n",
      "multi_asset_snp100 2023-12-17 22:11:13.807979\n",
      "multi_asset_snp100 2023-12-17 22:09:58.629570\n",
      "multi_asset_snp100 2023-12-17 22:08:14.030382\n",
      "multi_asset_snp100 2023-12-17 22:07:15.246137\n",
      "multi_asset_snp100 2023-12-17 22:01:09.626921\n",
      "multi_asset_snp100 2023-12-17 21:56:31.607502\n",
      "multi_asset_snp100 2023-12-17 21:55:36.681433\n",
      "multi_asset_snp100 2023-12-17 09:13:21.717476\n",
      "multi_asset_snp100 2023-12-17 09:08:47.876986\n",
      "multi_asset_snp100 2023-12-17 09:06:49.789240\n",
      "multi_asset_snp100 2023-12-17 08:55:08.564988\n",
      "multi_asset_snp100 2023-12-17 08:52:55.696107\n",
      "multi_asset_snp100 2023-12-17 08:52:18.051362\n",
      "multi_asset_snp100 2023-12-17 08:48:44.729190\n",
      "multi_asset_snp100 2023-12-17 08:47:54.329628\n",
      "multi_asset_snp100 2023-12-16 17:31:45.414344\n",
      "multi_asset_snp100 2023-12-16 15:15:33.865051\n",
      "multi_asset_snp100 2023-12-16 09:20:22.560097\n",
      "multi_asset_snp100 2023-12-15 22:01:14.037391\n",
      "multi_asset_snp100 2023-12-15 21:54:57.685235\n",
      "multi_asset_snp100 2023-12-15 21:32:50.035515\n",
      "multi_asset_snp100 2023-12-15 21:28:12.594941\n",
      "multi_asset_snp100 2023-12-15 21:24:39.564635\n",
      "multi_asset_snp100 2023-12-15 07:44:01.699372\n",
      "multi_asset_snp100 2023-12-15 07:41:38.488699\n",
      "multi_asset_snp100 2023-12-15 07:32:05.248661\n",
      "multi_asset_snp100 2023-12-15 07:29:10.693330\n",
      "multi_asset_snp100 2023-12-15 07:23:30.053949\n",
      "quandl 2023-12-12 14:51:06.970977\n",
      "quandl 2023-12-11 18:58:51.384085\n",
      "quandl 2023-12-11 18:58:18.790981\n",
      "quandl 2023-12-11 17:27:05.201175\n",
      "quandl 2023-12-11 17:16:04.140642\n",
      "quandl 2023-12-11 09:19:57.807125\n",
      "quandl 2023-12-11 09:18:50.209032\n",
      "quandl 2023-12-11 09:14:10.865540\n",
      "quandl 2023-12-11 06:27:30.829838\n",
      "quandl 2023-12-10 12:31:04.001536\n",
      "quandl 2023-12-10 12:22:46.640028\n",
      "quantopian-quandl <no ingestions>\n"
     ]
    }
   ],
   "source": [
    "!zipline bundles"
   ]
  },
  {
   "cell_type": "markdown",
   "id": "1c510861-8eaa-4117-8d8b-639fec2f1760",
   "metadata": {},
   "source": [
    "# Variable Initiallization for Multi Assets"
   ]
  },
  {
   "cell_type": "code",
   "execution_count": 6,
   "id": "62e7ad0d-f9f1-4d46-9e2a-4abe7d2a2855",
   "metadata": {
    "tags": []
   },
   "outputs": [
    {
     "ename": "UnknownBundle",
     "evalue": "No bundle registered with the name 'multi_asset_snp100'",
     "output_type": "error",
     "traceback": [
      "\u001b[0;31m---------------------------------------------------------------------------\u001b[0m",
      "\u001b[0;31mUnknownBundle\u001b[0m                             Traceback (most recent call last)",
      "Cell \u001b[0;32mIn[6], line 2\u001b[0m\n\u001b[1;32m      1\u001b[0m bundle \u001b[38;5;241m=\u001b[39m \u001b[38;5;124m'\u001b[39m\u001b[38;5;124mmulti_asset_snp100\u001b[39m\u001b[38;5;124m'\u001b[39m\n\u001b[0;32m----> 2\u001b[0m bundle_data \u001b[38;5;241m=\u001b[39m bundles\u001b[38;5;241m.\u001b[39mload(bundle)\n\u001b[1;32m      3\u001b[0m sids \u001b[38;5;241m=\u001b[39m bundle_data\u001b[38;5;241m.\u001b[39masset_finder\u001b[38;5;241m.\u001b[39msids\n\u001b[1;32m      4\u001b[0m assets \u001b[38;5;241m=\u001b[39m bundle_data\u001b[38;5;241m.\u001b[39masset_finder\u001b[38;5;241m.\u001b[39mretrieve_all(sids)\n",
      "File \u001b[0;32m~/anaconda3/lib/python3.11/site-packages/zipline/data/bundles/core.py:532\u001b[0m, in \u001b[0;36m_make_bundle_core.<locals>.load\u001b[0;34m(name, environ, timestamp)\u001b[0m\n\u001b[1;32m    530\u001b[0m \u001b[38;5;28;01mif\u001b[39;00m timestamp \u001b[38;5;129;01mis\u001b[39;00m \u001b[38;5;28;01mNone\u001b[39;00m:\n\u001b[1;32m    531\u001b[0m     timestamp \u001b[38;5;241m=\u001b[39m pd\u001b[38;5;241m.\u001b[39mTimestamp\u001b[38;5;241m.\u001b[39mutcnow()\n\u001b[0;32m--> 532\u001b[0m timestr \u001b[38;5;241m=\u001b[39m most_recent_data(name, timestamp, environ\u001b[38;5;241m=\u001b[39menviron)\n\u001b[1;32m    533\u001b[0m \u001b[38;5;28;01mreturn\u001b[39;00m BundleData(\n\u001b[1;32m    534\u001b[0m     asset_finder\u001b[38;5;241m=\u001b[39mAssetFinder(\n\u001b[1;32m    535\u001b[0m         asset_db_path(name, timestr, environ\u001b[38;5;241m=\u001b[39menviron),\n\u001b[0;32m   (...)\u001b[0m\n\u001b[1;32m    545\u001b[0m     ),\n\u001b[1;32m    546\u001b[0m )\n",
      "File \u001b[0;32m~/anaconda3/lib/python3.11/site-packages/zipline/data/bundles/core.py:485\u001b[0m, in \u001b[0;36m_make_bundle_core.<locals>.most_recent_data\u001b[0;34m(bundle_name, timestamp, environ)\u001b[0m\n\u001b[1;32m    472\u001b[0m \u001b[38;5;250m\u001b[39m\u001b[38;5;124;03m\"\"\"Get the path to the most recent data after ``date``for the\u001b[39;00m\n\u001b[1;32m    473\u001b[0m \u001b[38;5;124;03mgiven bundle.\u001b[39;00m\n\u001b[1;32m    474\u001b[0m \n\u001b[0;32m   (...)\u001b[0m\n\u001b[1;32m    482\u001b[0m \u001b[38;5;124;03m    An environment dict to forward to zipline_root.\u001b[39;00m\n\u001b[1;32m    483\u001b[0m \u001b[38;5;124;03m\"\"\"\u001b[39;00m\n\u001b[1;32m    484\u001b[0m \u001b[38;5;28;01mif\u001b[39;00m bundle_name \u001b[38;5;129;01mnot\u001b[39;00m \u001b[38;5;129;01min\u001b[39;00m bundles:\n\u001b[0;32m--> 485\u001b[0m     \u001b[38;5;28;01mraise\u001b[39;00m UnknownBundle(bundle_name)\n\u001b[1;32m    487\u001b[0m \u001b[38;5;28;01mtry\u001b[39;00m:\n\u001b[1;32m    488\u001b[0m     candidates \u001b[38;5;241m=\u001b[39m os\u001b[38;5;241m.\u001b[39mlistdir(\n\u001b[1;32m    489\u001b[0m         pth\u001b[38;5;241m.\u001b[39mdata_path([bundle_name], environ\u001b[38;5;241m=\u001b[39menviron),\n\u001b[1;32m    490\u001b[0m     )\n",
      "\u001b[0;31mUnknownBundle\u001b[0m: No bundle registered with the name 'multi_asset_snp100'"
     ]
    }
   ],
   "source": [
    "bundle = 'multi_asset_snp100'\n",
    "bundle_data = bundles.load(bundle)\n",
    "sids = bundle_data.asset_finder.sids\n",
    "assets = bundle_data.asset_finder.retrieve_all(sids)\n",
    "# Set the start and end dates\n",
    "start_date = pd.Timestamp('2011-01-01')\n",
    "end_date = pd.Timestamp('2020-01-01')\n",
    "capital_base = 10_000\n",
    "# calendar = get_calendar('XDSE')\n",
    "symb = 'AAPL'\n",
    "stop_loss_percent=0.1"
   ]
  },
  {
   "cell_type": "code",
   "execution_count": null,
   "id": "71299220-cef6-46a9-84f2-30812fd58a6a",
   "metadata": {
    "tags": []
   },
   "outputs": [],
   "source": [
    "print(assets)"
   ]
  },
  {
   "cell_type": "markdown",
   "id": "5c72b13d-d7b2-40d8-a3e6-7d15c1324d5e",
   "metadata": {},
   "source": [
    "# Zipline Functions"
   ]
  },
  {
   "cell_type": "code",
   "execution_count": null,
   "id": "d5953999-9eb1-40e0-bf31-10bdee3a54ee",
   "metadata": {
    "tags": []
   },
   "outputs": [],
   "source": [
    "def initialize(context):\n",
    "    context.i = 0\n",
    "    set_benchmark(symbol(symb))\n",
    "    sids = bundle_data.asset_finder.sids\n",
    "    context.assets = bundle_data.asset_finder.retrieve_all(sids)\n",
    "    context.bollinger_window = bollinger_window  # Bollinger Bands window\n",
    "    context.bollinger_dev = bollinger_dev  # Number of standard deviations for Bollinger Bands\n",
    "    context.stop_loss_percent = stop_loss_percent\n",
    "\n",
    "def exec_trade(data, positions):\n",
    "    for asset, target_percent in positions.items():\n",
    "        if data.can_trade(asset) and not get_open_orders(asset):\n",
    "            order_target_percent(asset, target_percent)\n",
    "\n",
    "def handle_data(context, data):\n",
    "    buy_signal = False\n",
    "    sell_signal = False\n",
    "    for asset in context.assets:\n",
    "        # Get historical price data\n",
    "        prices = data.history(asset, 'close', context.bollinger_window + 1, frequency='1d')\n",
    "        # print(prices)\n",
    "        # Calculate Bollinger Bands\n",
    "        sma = prices.mean()\n",
    "        rolling_std = prices.std()\n",
    "        upper_band = sma + (context.bollinger_dev * rolling_std)\n",
    "        lower_band = sma - (context.bollinger_dev * rolling_std)\n",
    "    \n",
    "        # Get the current price\n",
    "        current_price = data.current(asset, 'close')\n",
    "    \n",
    "        open_orders = get_open_orders()\n",
    "        # Check if the asset is still tradable\n",
    "        if data.can_trade(asset):\n",
    "            # Generate signals based on Bollinger Bands\n",
    "            if current_price > upper_band:\n",
    "                order_target_percent(asset, -0.5)  # Short position\n",
    "                sell_signal=True\n",
    "            elif current_price < lower_band:\n",
    "                order_target_percent(asset, 0.5)  # Long position\n",
    "                buy_signal=True\n",
    "            else:\n",
    "                order_target_percent(asset, 0)  # Close position\n",
    "        \n",
    "        # Record the values for later analysis\n",
    "        record(price=current_price, upper=upper_band, lower=lower_band)\n",
    "        record(\n",
    "            AAPL=current_price,\n",
    "            lower_band=lower_band, upper_band=upper_band,\n",
    "            sell_signal = sell_signal,\n",
    "            buy_signal = buy_signal,\n",
    "            price_hist=prices\n",
    "        )"
   ]
  },
  {
   "cell_type": "code",
   "execution_count": null,
   "id": "7db6cc16-1243-46e2-83d7-b63efb9001f1",
   "metadata": {
    "tags": []
   },
   "outputs": [],
   "source": [
    "# Run the algorithm\n",
    "result = run_algorithm(\n",
    "    start=start_date,\n",
    "    end=end_date,\n",
    "    initialize=initialize,\n",
    "    handle_data=handle_data,\n",
    "    capital_base=capital_base,\n",
    "    benchmark_returns=None,\n",
    "    data_frequency='daily',\n",
    "    bundle='multi_asset_snp100',\n",
    ")"
   ]
  },
  {
   "cell_type": "code",
   "execution_count": null,
   "id": "2b7ceab6-5a68-4191-af7e-7d75f7f1d700",
   "metadata": {
    "tags": []
   },
   "outputs": [],
   "source": [
    "result.returns"
   ]
  },
  {
   "cell_type": "markdown",
   "id": "6e03d7db-a925-4c23-8ae5-fdb1a3bc86f3",
   "metadata": {},
   "source": [
    "# Volitility, Sharpe Ratio and Portfolio Value"
   ]
  },
  {
   "cell_type": "code",
   "execution_count": null,
   "id": "834cc404-202f-4bf3-a6a9-bb53b4cc8b64",
   "metadata": {
    "tags": []
   },
   "outputs": [],
   "source": [
    "result[\"vols\"] = result.starting_cash.pct_change().rolling(30).std()\n",
    "def my_rolling_sharpe(ser):\n",
    "    return np.sqrt(90) * (ser.mean()/ser.std())\n",
    "result[\"sharpe_ratio\"] = result['starting_cash'].pct_change().rolling(235).apply(my_rolling_sharpe)\n",
    "fig, ax = plt.subplots(1, 3, figsize=(21,6))\n",
    "result['sharpe_ratio'].plot(ax = ax[0], title='Sharpe Ratio')\n",
    "result['vols'].plot(ax = ax[1], title='Volatility')\n",
    "result['ending_cash'].plot(ax = ax[2], title='Cash')\n",
    "plt.show()"
   ]
  },
  {
   "cell_type": "code",
   "execution_count": null,
   "id": "204119ef-bfc0-4c6a-8bbc-849700a12353",
   "metadata": {
    "tags": []
   },
   "outputs": [],
   "source": [
    "pf.create_returns_tear_sheet(returns=result.algorithm_period_return, benchmark_rets=None)"
   ]
  },
  {
   "cell_type": "markdown",
   "id": "646fc367-70b8-47f4-8950-ed86dbcb1e8c",
   "metadata": {},
   "source": [
    "## Stop Loss"
   ]
  },
  {
   "cell_type": "code",
   "execution_count": null,
   "id": "51552c21-c87a-4045-9d58-12c8685fbb7e",
   "metadata": {
    "tags": []
   },
   "outputs": [],
   "source": [
    "# A stop price is used in conjunction with a stop order to trigger a market order when the asset's price reaches or surpasses a certain level.\n",
    "# For a sell stop order, the stop price is the price at which the market order is triggered. Once the stop price is reached, the order becomes a market sell order.\n",
    "# For a buy stop order, the stop price is the price at which the market order is triggered. Once the stop price is reached, the order becomes a market buy order.\n",
    "def initialize(context):\n",
    "    context.i = 0\n",
    "    set_benchmark(symbol(symb))\n",
    "    sids = bundle_data.asset_finder.sids\n",
    "    context.assets = bundle_data.asset_finder.retrieve_all(sids)\n",
    "    context.bollinger_window = 20  # Bollinger Bands window\n",
    "    context.bollinger_dev = 1  # Number of standard deviations for Bollinger Bands\n",
    "    context.stop_loss_percent = 0.1\n",
    "def handle_data(context, data):\n",
    "    buy_signal = False\n",
    "    sell_signal = False\n",
    "    for asset in context.assets:\n",
    "        prices = data.history(asset, 'close', context.bollinger_window + 1, frequency='1d')\n",
    "        # Calculate Bollinger Bands\n",
    "        sma = prices.mean()\n",
    "        rolling_std = prices.std()\n",
    "        upper_band = sma + (context.bollinger_dev * rolling_std)\n",
    "        lower_band = sma - (context.bollinger_dev * rolling_std)\n",
    "    \n",
    "        # Get the current price\n",
    "        current_price = data.current(asset, 'close')\n",
    "    \n",
    "        open_orders = get_open_orders()\n",
    "        # Check if the asset is still tradable\n",
    "        if data.can_trade(asset):\n",
    "            cash = context.portfolio.cash\n",
    "\n",
    "            # Generate signals based on Bollinger Bands\n",
    "            if current_price > upper_band:\n",
    "                order_target(asset, -(cash // current_price),stop_price=current_price * (1 - context.stop_loss_percent))  # Short position\n",
    "                sell_signal = True\n",
    "            elif current_price < lower_band:\n",
    "                order_target(asset, cash // current_price,stop_price=current_price * (1 + context.stop_loss_percent) )  # Long position\n",
    "                buy_signal = True\n",
    "            else:\n",
    "                order_target(asset, 0)  # Close position\n",
    "\n",
    "        # Record the values for later analysis\n",
    "        record(price=current_price, upper=upper_band, lower=lower_band)\n",
    "        record(\n",
    "            AAPL=current_price,\n",
    "            lower_band=lower_band, upper_band=upper_band,\n",
    "            sell_signal=sell_signal,\n",
    "            buy_signal=buy_signal,\n",
    "            price_hist=prices\n",
    "        )\n"
   ]
  },
  {
   "cell_type": "code",
   "execution_count": null,
   "id": "582576b5-4552-406e-a306-a941826d08de",
   "metadata": {},
   "outputs": [],
   "source": [
    "# Run the algorithm\n",
    "result = run_algorithm(\n",
    "    start=start_date,\n",
    "    end=end_date,\n",
    "    initialize=initialize,\n",
    "    handle_data=handle_data,\n",
    "    capital_base=capital_base,\n",
    "    benchmark_returns=None,\n",
    "    data_frequency='daily',\n",
    "    bundle='multi_asset_snp100',\n",
    ")"
   ]
  },
  {
   "cell_type": "code",
   "execution_count": null,
   "id": "ebfd97a4-89d3-43fc-933f-90549eacf1e0",
   "metadata": {
    "tags": []
   },
   "outputs": [],
   "source": [
    "result.returns"
   ]
  },
  {
   "cell_type": "code",
   "execution_count": null,
   "id": "879a4a6f-8d08-43ec-b7aa-04b20df72aac",
   "metadata": {
    "tags": []
   },
   "outputs": [],
   "source": [
    "result[\"vols\"] = result.starting_cash.pct_change().rolling(30).std()\n",
    "def my_rolling_sharpe(ser):\n",
    "    return np.sqrt(90) * (ser.mean()/ser.std())\n",
    "result[\"sharpe_ratio\"] = result['starting_cash'].pct_change().rolling(235).apply(my_rolling_sharpe)\n",
    "fig, ax = plt.subplots(1, 3, figsize=(21,6))\n",
    "result['sharpe_ratio'].plot(ax = ax[0], title='Sharpe Ratio')\n",
    "result['vols'].plot(ax = ax[1], title='Volatility')\n",
    "result['ending_cash'].plot(ax = ax[2], title='Cash')\n",
    "plt.show()"
   ]
  },
  {
   "cell_type": "code",
   "execution_count": null,
   "id": "317be14b-de9c-4e56-a1eb-e4bc231d8c4b",
   "metadata": {
    "tags": []
   },
   "outputs": [],
   "source": [
    "pf.create_returns_tear_sheet(returns=result.algorithm_period_return, benchmark_rets=None)"
   ]
  },
  {
   "cell_type": "markdown",
   "id": "dfb0a005-7dd1-4798-b61e-4cf88934ec28",
   "metadata": {},
   "source": [
    "## Take Profit"
   ]
  },
  {
   "cell_type": "code",
   "execution_count": null,
   "id": "8c203926-f59f-47de-8fab-4172cc8a3db0",
   "metadata": {
    "tags": []
   },
   "outputs": [],
   "source": [
    "#A limit price is the specific price at which a trader wants to buy or sell an asset.\n",
    "# For a buy order, the limit price is the maximum price the trader is willing to pay.\n",
    "# For a sell order, the limit price is the minimum price the trader is willing to accept.\n",
    "# The order will only be executed at the specified limit price or better.\n",
    "take_profit_percent=0.1\n",
    "def initialize(context):\n",
    "    context.i = 0\n",
    "    set_benchmark(symbol(symb))\n",
    "    sids = bundle_data.asset_finder.sids\n",
    "    context.assets = bundle_data.asset_finder.retrieve_all(sids)\n",
    "    context.bollinger_window = bollinger_window  # Bollinger Bands window\n",
    "    context.bollinger_dev = bollinger_dev  # Number of standard deviations for Bollinger Bands\n",
    "    context.take_profit_percent = take_profit_percent  # Define Take Profit percentage\n",
    "\n",
    "def handle_data(context, data):\n",
    "    buy_signal = False\n",
    "    sell_signal = False\n",
    "    take_profit_executed = False\n",
    "    for asset in context.assets:\n",
    "        # Get historical price data\n",
    "        prices = data.history(asset, 'close', context.bollinger_window + 1, frequency='1d')\n",
    "\n",
    "        # Calculate Bollinger Bands\n",
    "        sma = prices.mean()\n",
    "        rolling_std = prices.std()\n",
    "        upper_band = sma + (context.bollinger_dev * rolling_std)\n",
    "        lower_band = sma - (context.bollinger_dev * rolling_std)\n",
    "\n",
    "        # Get current price and open orders\n",
    "        current_price = data.current(asset, 'close')\n",
    "        open_orders = get_open_orders()\n",
    "\n",
    "        # Check if asset is tradable\n",
    "        if data.can_trade(asset):\n",
    "            cash = context.portfolio.cash\n",
    "\n",
    "            if current_price > upper_band:\n",
    "                limit_price = current_price * (1 - context.take_profit_percent)\n",
    "                order_target(asset, -(cash // current_price), limit_price=limit_price)  # Short position\n",
    "            elif current_price < lower_band:\n",
    "                limit_price = current_price * (1 + context.take_profit_percent)\n",
    "                order_target(asset, cash // current_price, limit_price=limit_price)  \n",
    "\n",
    "        # Record data for analysis\n",
    "        record(price=current_price, upper=upper_band, lower=lower_band)\n",
    "        record(\n",
    "            AAPL=current_price,\n",
    "            lower_band=lower_band, upper_band=upper_band,\n",
    "            sell_signal=sell_signal,\n",
    "            buy_signal=buy_signal,\n",
    "            price_hist=prices,\n",
    "            take_profit=take_profit_executed,\n",
    "        )\n",
    "\n"
   ]
  },
  {
   "cell_type": "code",
   "execution_count": null,
   "id": "b6f714c6-a3a4-41b2-8cd2-d599df207514",
   "metadata": {
    "tags": []
   },
   "outputs": [],
   "source": [
    "result = run_algorithm(\n",
    "    start=start_date,\n",
    "    end=end_date,\n",
    "    initialize=initialize,\n",
    "    handle_data=handle_data,\n",
    "    capital_base=capital_base,\n",
    "    benchmark_returns=None,\n",
    "    data_frequency='daily',\n",
    "    bundle='multi_asset_snp100',\n",
    ")"
   ]
  },
  {
   "cell_type": "code",
   "execution_count": null,
   "id": "f0fc3f54-2241-4791-8db5-98527c325923",
   "metadata": {
    "tags": []
   },
   "outputs": [],
   "source": [
    "result[\"vols\"] = result.starting_cash.pct_change().rolling(30).std()\n",
    "def my_rolling_sharpe(ser):\n",
    "    return np.sqrt(90) * (ser.mean()/ser.std())\n",
    "result[\"sharpe_ratio\"] = result['starting_cash'].pct_change().rolling(235).apply(my_rolling_sharpe)\n",
    "fig, ax = plt.subplots(1, 3, figsize=(21,6))\n",
    "result['sharpe_ratio'].plot(ax = ax[0], title='Sharpe Ratio')\n",
    "result['vols'].plot(ax = ax[1], title='Volatility')\n",
    "result['ending_cash'].plot(ax = ax[2], title='Cash')\n",
    "plt.show()"
   ]
  },
  {
   "cell_type": "code",
   "execution_count": null,
   "id": "5ba694cb-e381-4d20-83a3-dd000e05be84",
   "metadata": {
    "tags": []
   },
   "outputs": [],
   "source": [
    "pf.create_returns_tear_sheet(returns=result.algorithm_period_return, benchmark_rets=None)"
   ]
  },
  {
   "cell_type": "code",
   "execution_count": null,
   "id": "8d622f5a-e3e4-4e9b-8ab0-ef5a1725a5a1",
   "metadata": {
    "tags": []
   },
   "outputs": [],
   "source": [
    "result = run_algorithm(\n",
    "    start=start_date,\n",
    "    end=end_date,\n",
    "    initialize=initialize,\n",
    "    handle_data=handle_data,\n",
    "    capital_base=capital_base,\n",
    "    benchmark_returns=None,\n",
    "    data_frequency='daily',\n",
    "    bundle='multi_asset_snp100',\n",
    ")"
   ]
  },
  {
   "cell_type": "markdown",
   "id": "a6765453-3e5a-408f-bd66-ac978bf71224",
   "metadata": {},
   "source": [
    "## Stop loss + Take profit"
   ]
  },
  {
   "cell_type": "code",
   "execution_count": null,
   "id": "3fd814e9-7a5b-4785-82ad-5b4e23cc431f",
   "metadata": {},
   "outputs": [],
   "source": [
    "def initialize(context):\n",
    "    context.i = 0\n",
    "    set_benchmark(symbol(symb))\n",
    "    sids = bundle_data.asset_finder.sids\n",
    "    context.assets = bundle_data.asset_finder.retrieve_all(sids)\n",
    "    context.bollinger_window = 20  # Bollinger Bands window\n",
    "    context.bollinger_dev = 2  # Number of standard deviations for Bollinger Bands\n",
    "    context.stop_loss_percent = 0.05  # Stop loss percentage\n",
    "    context.take_profit_percent = 0.1  # Take profit percentage\n",
    "\n",
    "def handle_data(context, data):\n",
    "    for asset in context.assets:\n",
    "        # Get historical price data\n",
    "        prices = data.history(asset, 'close', context.bollinger_window + 1, frequency='1d')\n",
    "        # Calculate Bollinger Bands\n",
    "        sma = prices.mean()\n",
    "        rolling_std = prices.std()\n",
    "        upper_band = sma + (context.bollinger_dev * rolling_std)\n",
    "        lower_band = sma - (context.bollinger_dev * rolling_std)\n",
    "\n",
    "        # Get the current price\n",
    "        current_price = data.current(asset, 'close')\n",
    "\n",
    "        open_orders = get_open_orders()\n",
    "\n",
    "        # Check if the asset is still tradable\n",
    "        if data.can_trade(asset):\n",
    "            # Check existing position\n",
    "            position = context.portfolio.positions[asset]\n",
    "\n",
    "            # Generate signals based on Bollinger Bands\n",
    "            if current_price > upper_band:\n",
    "                # Short position with stop-loss and take-profit\n",
    "                order_target_percent(asset, -0.5, stop_price=current_price * (1 + context.stop_loss_percent),\n",
    "                                      limit_price=current_price * (1 - context.take_profit_percent))\n",
    "            elif current_price < lower_band:\n",
    "                # Long position with stop-loss and take-profit\n",
    "                order_target_percent(asset, 0.5, stop_price=current_price * (1 - context.stop_loss_percent),\n",
    "                                      limit_price=current_price * (1 + context.take_profit_percent))\n",
    "            else:\n",
    "                # Close position\n",
    "                order_target_percent(asset, 0)\n",
    "\n",
    "        # Record the values for later analysis\n",
    "        record(price=current_price, upper=upper_band, lower=lower_band)\n",
    "        record(\n",
    "            AAPL=current_price,\n",
    "            lower_band=lower_band, upper_band=upper_band,\n",
    "            price_hist=prices\n",
    "        )\n"
   ]
  },
  {
   "cell_type": "markdown",
   "id": "5db41677-2b35-4043-8ebb-486d560dc675",
   "metadata": {},
   "source": [
    "# Ensemble(Bollinger Bands + MACD)"
   ]
  },
  {
   "cell_type": "code",
   "execution_count": null,
   "id": "776215e4-a43f-43c8-a499-138f18082df5",
   "metadata": {},
   "outputs": [],
   "source": [
    "def initialize(context):\n",
    "    context.i = 0\n",
    "    set_benchmark(symbol(symb))\n",
    "    sids = bundle_data.asset_finder.sids\n",
    "    context.assets = bundle_data.asset_finder.retrieve_all(sids)\n",
    "    context.bollinger_window = bollinger_window  # Bollinger Bands window\n",
    "    context.bollinger_dev = bollinger_dev  # Number of standard deviations for Bollinger Bands\n",
    "    context.stop_loss_percent = stop_loss_percent\n",
    "    context.macd_short_window = 12\n",
    "    context.macd_long_window = 26\n",
    "    context.macd_signal_window = 9\n",
    "    context.take_profit_percent=0.3\n",
    "\n",
    "def exec_trade(data, positions):\n",
    "    for asset, target_percent in positions.items():\n",
    "        if data.can_trade(asset) and not get_open_orders(asset):\n",
    "            order_target_percent(asset, target_percent)\n",
    "\n",
    "def calculate_macd(prices, short_window, long_window, signal_window):\n",
    "    exp12 = prices.ewm(span=short_window, adjust=False).mean()\n",
    "    exp26 = prices.ewm(span=long_window, adjust=False).mean()\n",
    "    macd = exp12 - exp26\n",
    "    signal = macd.ewm(span=signal_window, adjust=False).mean()\n",
    "    return macd, signal\n",
    "\n",
    "def handle_data(context, data):\n",
    "    buy_signal = False\n",
    "    sell_signal = False\n",
    "    \n",
    "    for asset in context.assets:\n",
    "        # Get historical price data\n",
    "        prices = data.history(asset, 'close', context.bollinger_window + context.macd_long_window + context.macd_signal_window + 1, frequency='1d')\n",
    "        # Calculate Bollinger Bands\n",
    "        sma = prices[-context.bollinger_window:].mean()\n",
    "        rolling_std = prices[-context.bollinger_window:].std()\n",
    "        upper_band = sma + (context.bollinger_dev * rolling_std)\n",
    "        lower_band = sma - (context.bollinger_dev * rolling_std)\n",
    "\n",
    "        # Calculate MACD\n",
    "        close_prices = prices[-context.macd_long_window:]\n",
    "        macd, signal = calculate_macd(close_prices, context.macd_short_window, context.macd_long_window, context.macd_signal_window)\n",
    "\n",
    "        # Get the current price\n",
    "        current_price = data.current(asset, 'close')\n",
    "    \n",
    "        open_orders = get_open_orders()\n",
    "        # Check if the asset is still tradable\n",
    "        if data.can_trade(asset):\n",
    "            cash = context.portfolio.cash\n",
    "            # Generate signals based on Bollinger Bands and MACD\n",
    "            if current_price > upper_band and macd.iloc[-1] > signal.iloc[-1] and macd.iloc[-2] < signal.iloc[-2]:\n",
    "                limit_price = current_price * (1 - context.take_profit_percent)\n",
    "                order_target(asset, -(cash // current_price), limit_price=limit_price)# Short position\n",
    "                sell_signal = True\n",
    "            elif current_price < lower_band and macd.iloc[-1] < signal.iloc[-1] and macd.iloc[-2] > signal.iloc[-2]:\n",
    "                limit_price = current_price * (1 + context.take_profit_percent)\n",
    "                order_target(asset, cash // current_price, limit_price=limit_price)# Long position\n",
    "                buy_signal = True\n",
    "            else:\n",
    "                order_target_percent(asset, 0)  # Close position\n",
    "        \n",
    "        # Record the values for later analysis\n",
    "        record(price=current_price, upper=upper_band, lower=lower_band, macd=macd.iloc[-1], signal=signal.iloc[-1])\n",
    "        record(\n",
    "            AAPL=current_price,\n",
    "            lower_band=lower_band, upper_band=upper_band,\n",
    "            sell_signal=sell_signal,\n",
    "            buy_signal=buy_signal,\n",
    "            price_hist=prices\n",
    "        )\n"
   ]
  },
  {
   "cell_type": "code",
   "execution_count": null,
   "id": "20e29fc5-38a6-4082-bd80-89748b90741e",
   "metadata": {
    "tags": []
   },
   "outputs": [],
   "source": [
    "result = run_algorithm(\n",
    "    start=start_date,\n",
    "    end=end_date,\n",
    "    initialize=initialize,\n",
    "    handle_data=handle_data,\n",
    "    capital_base=capital_base,\n",
    "    benchmark_returns=None,\n",
    "    data_frequency='daily',\n",
    "    bundle='multi_asset_snp100',\n",
    ")"
   ]
  },
  {
   "cell_type": "code",
   "execution_count": null,
   "id": "965afca9-577a-49ce-abfa-b9854565b290",
   "metadata": {
    "tags": []
   },
   "outputs": [],
   "source": [
    "result[\"vols\"] = result.starting_cash.pct_change().rolling(30).std()\n",
    "def my_rolling_sharpe(ser):\n",
    "    return np.sqrt(90) * (ser.mean()/ser.std())\n",
    "result[\"sharpe_ratio\"] = result['starting_cash'].pct_change().rolling(235).apply(my_rolling_sharpe)\n",
    "fig, ax = plt.subplots(1, 3, figsize=(21,6))\n",
    "result['sharpe_ratio'].plot(ax = ax[0], title='Sharpe Ratio')\n",
    "result['vols'].plot(ax = ax[1], title='Volatility')\n",
    "result['ending_cash'].plot(ax = ax[2], title='Cash')\n",
    "plt.show()"
   ]
  },
  {
   "cell_type": "code",
   "execution_count": null,
   "id": "839a4dae-a143-48bf-8045-7ea2c2abfa8c",
   "metadata": {
    "tags": []
   },
   "outputs": [],
   "source": [
    "pf.create_returns_tear_sheet(returns=result.algorithm_period_return, benchmark_rets=None)"
   ]
  },
  {
   "cell_type": "markdown",
   "id": "cb2aa546-de24-4678-b4b4-b921947c19b8",
   "metadata": {},
   "source": [
    "## Added Volume Filter"
   ]
  },
  {
   "cell_type": "code",
   "execution_count": null,
   "id": "998a4900-9b78-4796-a5ff-cba3085faa58",
   "metadata": {
    "tags": []
   },
   "outputs": [],
   "source": [
    "def handle_data(context, data):\n",
    "    buy_signal = False\n",
    "    sell_signal = False\n",
    "    \n",
    "    for asset in context.assets:\n",
    "        # Get historical price data and volume\n",
    "        prices = data.history(asset, 'close', context.bollinger_window + context.macd_long_window + context.macd_signal_window + 1, frequency='1d')\n",
    "        volumes = data.history(asset, 'volume', context.bollinger_window + context.macd_long_window + context.macd_signal_window + 1, frequency='1d')\n",
    "\n",
    "        # Calculate Bollinger Bands\n",
    "        sma = prices[-context.bollinger_window:].mean()\n",
    "        rolling_std = prices[-context.bollinger_window:].std()\n",
    "        upper_band = sma + (context.bollinger_dev * rolling_std)\n",
    "        lower_band = sma - (context.bollinger_dev * rolling_std)\n",
    "\n",
    "        # Calculate MACD\n",
    "        close_prices = prices[-context.macd_long_window:]\n",
    "        macd, signal = calculate_macd(close_prices, context.macd_short_window, context.macd_long_window, context.macd_signal_window)\n",
    "\n",
    "        # Get the current price and volume\n",
    "        current_price = data.current(asset, 'close')\n",
    "        current_volume = data.current(asset, 'volume')\n",
    "\n",
    "        # Calculate the average volume\n",
    "        average_volume = volumes.mean()\n",
    "\n",
    "        open_orders = get_open_orders()\n",
    "        # Check if the asset is still tradable\n",
    "        if data.can_trade(asset):\n",
    "            cash = context.portfolio.cash\n",
    "            # Generate signals based on Bollinger Bands, MACD, and volume\n",
    "            if (\n",
    "                current_price > upper_band\n",
    "                and macd.iloc[-1] > signal.iloc[-1]\n",
    "                and macd.iloc[-2] < signal.iloc[-2]\n",
    "                and current_volume > average_volume\n",
    "            ):\n",
    "                order_target(asset, -(cash // current_price))  # Short position\n",
    "                sell_signal = True\n",
    "            elif (\n",
    "                current_price < lower_band\n",
    "                and macd.iloc[-1] < signal.iloc[-1]\n",
    "                and macd.iloc[-2] > signal.iloc[-2]\n",
    "                and current_volume > average_volume\n",
    "            ):\n",
    "                order_target(asset, cash // current_price)  # Long position\n",
    "                buy_signal = True\n",
    "            else:\n",
    "                order_target(asset, 0)  # Close position\n",
    "        \n",
    "        # Record the values for later analysis\n",
    "        record(price=current_price, upper=upper_band, lower=lower_band, macd=macd.iloc[-1], signal=signal.iloc[-1], volume=current_volume, average_volume=average_volume)\n",
    "        record(\n",
    "            AAPL=current_price,\n",
    "            lower_band=lower_band, upper_band=upper_band,\n",
    "            sell_signal=sell_signal,\n",
    "            buy_signal=buy_signal,\n",
    "            price_hist=prices,\n",
    "            volume_hist=volumes\n",
    "        )\n"
   ]
  },
  {
   "cell_type": "code",
   "execution_count": null,
   "id": "072c5263-5090-49a6-92d4-b61cd8b65f6b",
   "metadata": {
    "tags": []
   },
   "outputs": [],
   "source": [
    "result = run_algorithm(\n",
    "    start=start_date,\n",
    "    end=end_date,\n",
    "    initialize=initialize,\n",
    "    handle_data=handle_data,\n",
    "    capital_base=capital_base,\n",
    "    benchmark_returns=None,\n",
    "    data_frequency='daily',\n",
    "    bundle='multi_asset_snp100',\n",
    ")"
   ]
  },
  {
   "cell_type": "code",
   "execution_count": null,
   "id": "f6ee60f4-79b5-4297-897a-28663bbac34c",
   "metadata": {
    "tags": []
   },
   "outputs": [],
   "source": [
    "result[\"vols\"] = result.starting_cash.pct_change().rolling(30).std()\n",
    "def my_rolling_sharpe(ser):\n",
    "    return np.sqrt(90) * (ser.mean()/ser.std())\n",
    "result[\"sharpe_ratio\"] = result['starting_cash'].pct_change().rolling(235).apply(my_rolling_sharpe)\n",
    "fig, ax = plt.subplots(1, 3, figsize=(21,6))\n",
    "result['sharpe_ratio'].plot(ax = ax[0], title='Sharpe Ratio')\n",
    "result['vols'].plot(ax = ax[1], title='Volatility')\n",
    "result['ending_cash'].plot(ax = ax[2], title='Cash')\n",
    "plt.show()"
   ]
  },
  {
   "cell_type": "code",
   "execution_count": null,
   "id": "ec612844-93a0-4675-aee9-bafe7a54d676",
   "metadata": {
    "tags": []
   },
   "outputs": [],
   "source": [
    "pf.create_returns_tear_sheet(returns=result.algorithm_period_return, benchmark_rets=None)"
   ]
  },
  {
   "cell_type": "markdown",
   "id": "eef5859a-1e03-49c3-9478-fdc4999a19b2",
   "metadata": {},
   "source": [
    "## Added Volatility Filter"
   ]
  },
  {
   "cell_type": "code",
   "execution_count": null,
   "id": "166c934d-9f0f-4f06-834e-28da2518123b",
   "metadata": {
    "tags": []
   },
   "outputs": [],
   "source": [
    "def initialize(context):\n",
    "    context.i = 0\n",
    "    set_benchmark(symbol(symb))\n",
    "    sids = bundle_data.asset_finder.sids\n",
    "    context.assets = bundle_data.asset_finder.retrieve_all(sids)\n",
    "    context.bollinger_window = 25  # Bollinger Bands window\n",
    "    context.bollinger_dev = 1.5  # Number of standard deviations for Bollinger Bands\n",
    "    context.macd_short_window = 8\n",
    "    context.macd_long_window = 26\n",
    "    context.macd_signal_window = 7\n",
    "    context.max_volatility = 0.03\n",
    "    \n",
    "def handle_data(context, data):\n",
    "    buy_signal = False\n",
    "    sell_signal = False\n",
    "    \n",
    "    for asset in context.assets:\n",
    "        # Get historical price data\n",
    "        prices = data.history(asset, 'close', context.bollinger_window + context.macd_long_window + context.macd_signal_window + 1, frequency='1d')\n",
    "        \n",
    "        # Calculate Bollinger Bands\n",
    "        sma = prices[-context.bollinger_window:].mean()\n",
    "        rolling_std = prices[-context.bollinger_window:].std()\n",
    "        upper_band = sma + (context.bollinger_dev * rolling_std)\n",
    "        lower_band = sma - (context.bollinger_dev * rolling_std)\n",
    "\n",
    "        # Calculate MACD\n",
    "        close_prices = prices[-context.macd_long_window:]\n",
    "        macd, signal = calculate_macd(close_prices, context.macd_short_window, context.macd_long_window, context.macd_signal_window)\n",
    "\n",
    "        # Calculate historical returns for volatility calculation\n",
    "        returns = prices.pct_change().dropna()\n",
    "\n",
    "        # Calculate volatility as the standard deviation of returns\n",
    "        volatility = returns.std()\n",
    "\n",
    "        # Get the current price\n",
    "        current_price = data.current(asset, 'close')\n",
    "    \n",
    "        open_orders = get_open_orders()\n",
    "        # Check if the asset is still tradable and if volatility is below a certain threshold\n",
    "        if data.can_trade(asset) and volatility < context.max_volatility:\n",
    "            cash = context.portfolio.cash\n",
    "            # Generate signals based on Bollinger Bands and MACD\n",
    "            if current_price > upper_band and macd.iloc[-1] > signal.iloc[-1] and macd.iloc[-2] < signal.iloc[-2]:\n",
    "                order_target(asset, -(cash // current_price))  # Short position\n",
    "                sell_signal = True\n",
    "            elif current_price < lower_band and macd.iloc[-1] < signal.iloc[-1] and macd.iloc[-2] > signal.iloc[-2]:\n",
    "                order_target(asset, cash // current_price)  # Long position\n",
    "                buy_signal = True\n",
    "            else:\n",
    "                order_target(asset, 0)  # Close position\n",
    "        \n",
    "        # Record the values for later analysis\n",
    "        record(price=current_price, upper=upper_band, lower=lower_band, macd=macd.iloc[-1], signal=signal.iloc[-1], volatility=volatility)\n",
    "        record(\n",
    "            AAPL=current_price,\n",
    "            lower_band=lower_band, upper_band=upper_band,\n",
    "            sell_signal=sell_signal,\n",
    "            buy_signal=buy_signal,\n",
    "            price_hist=prices,\n",
    "            volatility=volatility\n",
    "        )\n"
   ]
  },
  {
   "cell_type": "code",
   "execution_count": null,
   "id": "effb6c02-db4a-4844-b1c5-2cd50680d843",
   "metadata": {
    "tags": []
   },
   "outputs": [],
   "source": [
    "result = run_algorithm(\n",
    "    start=start_date,\n",
    "    end=end_date,\n",
    "    initialize=initialize,\n",
    "    handle_data=handle_data,\n",
    "    capital_base=capital_base,\n",
    "    benchmark_returns=None,\n",
    "    data_frequency='daily',\n",
    "    bundle='multi_asset_snp100',\n",
    ")"
   ]
  },
  {
   "cell_type": "code",
   "execution_count": null,
   "id": "aa0b2027-6991-4b2e-a989-96ecee1acfe9",
   "metadata": {
    "tags": []
   },
   "outputs": [],
   "source": [
    "result[\"vols\"] = result.starting_cash.pct_change().rolling(30).std()\n",
    "def my_rolling_sharpe(ser):\n",
    "    return np.sqrt(90) * (ser.mean()/ser.std())\n",
    "result[\"sharpe_ratio\"] = result['starting_cash'].pct_change().rolling(235).apply(my_rolling_sharpe)\n",
    "fig, ax = plt.subplots(1, 3, figsize=(21,6))\n",
    "result['sharpe_ratio'].plot(ax = ax[0], title='Sharpe Ratio')\n",
    "result['vols'].plot(ax = ax[1], title='Volatility')\n",
    "result['ending_cash'].plot(ax = ax[2], title='Cash')\n",
    "plt.show()"
   ]
  },
  {
   "cell_type": "code",
   "execution_count": null,
   "id": "0d04587d-1fec-49b2-8153-536eb341daac",
   "metadata": {
    "tags": []
   },
   "outputs": [],
   "source": [
    "pf.create_returns_tear_sheet(returns=result.algorithm_period_return, benchmark_rets=None)"
   ]
  },
  {
   "cell_type": "code",
   "execution_count": null,
   "id": "321aa642-0fb2-4c65-97f0-26d3b63d1cbf",
   "metadata": {},
   "outputs": [],
   "source": []
  }
 ],
 "metadata": {
  "kernelspec": {
   "display_name": "Python 3 (ipykernel)",
   "language": "python",
   "name": "python3"
  },
  "language_info": {
   "codemirror_mode": {
    "name": "ipython",
    "version": 3
   },
   "file_extension": ".py",
   "mimetype": "text/x-python",
   "name": "python",
   "nbconvert_exporter": "python",
   "pygments_lexer": "ipython3",
   "version": "3.11.5"
  }
 },
 "nbformat": 4,
 "nbformat_minor": 5
}
